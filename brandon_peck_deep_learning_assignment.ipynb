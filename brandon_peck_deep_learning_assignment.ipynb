{
  "nbformat": 4,
  "nbformat_minor": 0,
  "metadata": {
    "colab": {
      "name": "Copy of deep_learning_assignment.ipynb",
      "version": "0.3.2",
      "provenance": [],
      "collapsed_sections": []
    },
    "kernelspec": {
      "name": "python3",
      "display_name": "Python 3"
    }
  },
  "cells": [
    {
      "metadata": {
        "id": "z-__RAO5t53G",
        "colab_type": "text"
      },
      "cell_type": "markdown",
      "source": [
        "## Deep Learning Basics\n",
        "\n",
        "In this tutorial we we will implement a toy deep learning framework, to rapidly create neural network models. It should have some flexibilty and will be implemented so that new modules can be added and replaced just like in modern deep learning frameworks. We will be implementing some types of basic layers. We will also explore pytorch's nn package and see how pytorch accomplishes this goal and what are the extras that pytorch offers.\n"
      ]
    },
    {
      "metadata": {
        "id": "Y5AUSc3jufKi",
        "colab_type": "text"
      },
      "cell_type": "markdown",
      "source": [
        "### 1. Cleaner mini-batch-capable Linear + Softmax classifier\n"
      ]
    },
    {
      "metadata": {
        "id": "Vby-ogCCxYwa",
        "colab_type": "text"
      },
      "cell_type": "markdown",
      "source": [
        "In the previous assignment, we provided a basic implementation of a linear softmax classifier. In this assignment we will use this as a starting point for our deep learning library. \n",
        "\n",
        "**Softmax + Negative Log-Likelihood:** First we will re-implement the (softmax + negative log likelihood loss) computation, and its gradient computation. But we will additionally support batches of inputs and labels. \n"
      ]
    },
    {
      "metadata": {
        "id": "j0JJRfD6ti7m",
        "colab_type": "code",
        "outputId": "394155d8-9eab-4182-d57e-4cfb3da219bb",
        "colab": {
          "base_uri": "https://localhost:8080/",
          "height": 119
        }
      },
      "cell_type": "code",
      "source": [
        "import torch\n",
        "\n",
        "# This class combines Softmax + Negative-log likelihood loss.\n",
        "# Similar to the previous lab, but this implementation works for \n",
        "# batches of inputs and not just individual input vectors. \n",
        "# Here \"inputs\" is batchSize x sizePredictionScores, and\n",
        "#      \"labels\" is a vector of size batchSize.\n",
        "class toynn_CrossEntropyLoss(object): \n",
        "  \n",
        "    # Forward pass: -log softmax(input_{label})\n",
        "    def forward(self, scores, labels):\n",
        "        # 1. Computing the softmax: exp(x) / sum (exp(x))\n",
        "        max_val = scores.max()  # This is to avoid variable overflows.\n",
        "        exp_inputs = (scores - max_val).exp()\n",
        "        # This is different than in the previous lab. Avoiding for loops here.\n",
        "        denominators = exp_inputs.sum(1).repeat(scores.size(1), 1).t()\n",
        "        self.predictions = torch.mul(exp_inputs, 1 / denominators)\n",
        "        \n",
        "        # 2. Computing the loss: -log(y_label).\n",
        "        # Check what gather does. Just avoiding another for loop here.\n",
        "        return -self.predictions.log().gather(1, labels.view(-1, 1)).mean()\n",
        "    \n",
        "    # Backward pass: y_hat - y\n",
        "    def backward(self, scores, labels):\n",
        "      \n",
        "        # Here we avoid computing softmax again in backward pass.\n",
        "        grad_inputs = self.predictions.clone()\n",
        "        \n",
        "        # Ok, Here we will use a for loop (but it is avoidable too).\n",
        "        for i in range(0, scores.size(0)):\n",
        "            grad_inputs[i][labels[i]] = grad_inputs[i][labels[i]] - 1\n",
        "            \n",
        "        return grad_inputs \n",
        "      \n",
        "      \n",
        "# Let's verify if the above seems to be Okay.\n",
        "batchSize = 32\n",
        "mock_scores = torch.zeros(batchSize, 10).normal_(0, 0.1)\n",
        "mock_labels = torch.zeros(batchSize, 1, dtype=torch.long).fill_(3)\n",
        "\n",
        "loss_fn = toynn_CrossEntropyLoss()\n",
        "\n",
        "loss = loss_fn.forward(mock_scores, mock_labels)\n",
        "mock_scores_grads = loss_fn.backward(mock_scores, mock_labels)\n",
        "\n",
        "print(\"Input predictions: \", mock_scores.shape)\n",
        "print(\"Input labels: \", mock_labels.shape)\n",
        "print(\"Output loss: \", loss.item())\n",
        "print(\"Input prediction gradients: \", mock_scores_grads.shape)"
      ],
      "execution_count": 12,
      "outputs": [
        {
          "output_type": "stream",
          "text": [
            "torch.Size([32, 10])\n",
            "torch.Size([32, 1])\n",
            "Input predictions:  torch.Size([32, 10])\n",
            "Input labels:  torch.Size([32, 1])\n",
            "Output loss:  2.3053507804870605\n",
            "Input prediction gradients:  torch.Size([32, 10])\n"
          ],
          "name": "stdout"
        }
      ]
    },
    {
      "metadata": {
        "id": "-DfaJM7RWk_0",
        "colab_type": "text"
      },
      "cell_type": "markdown",
      "source": [
        "\n",
        "**Linear Transformation:**  Next, we will re-implement the linear transformation computation $y=Wx+b$, and its gradient computation. But we will additionally support batches of inputs and labels. Making a batched implementation of this layer is easier because the only change is that now we have matrix-matrix multiplications as opposed to vector-matrix multiplications. Additionally, we will support returning the gradients with respect to the inputs to the linear transformation ($\\partial \\ell / \\partial x_j$). Notice that in our previous assignment we were only concerned with computing $\\partial \\ell / \\partial w_{ij}$ and  $\\partial \\ell / \\partial b_i$ (gradients for the parameters)."
      ]
    },
    {
      "metadata": {
        "id": "2Lfp8zLNXVo_",
        "colab_type": "code",
        "outputId": "3c507a93-193c-403e-fbc1-48ac3679c0b6",
        "colab": {
          "base_uri": "https://localhost:8080/",
          "height": 102
        }
      },
      "cell_type": "code",
      "source": [
        "class toynn_Linear(object):\n",
        "    def __init__(self, numInputs, numOutputs):\n",
        "        # Allocate tensors for the weight and bias parameters.\n",
        "        self.weight = torch.Tensor(numInputs, numOutputs).normal_(0, 0.01)\n",
        "        self.weight_grads = torch.Tensor(numInputs, numOutputs)\n",
        "        self.bias = torch.Tensor(numOutputs).zero_()\n",
        "        self.bias_grads = torch.Tensor(numOutputs)\n",
        "    \n",
        "    # Forward pass, inputs is a matrix of size batchSize x numInputs.\n",
        "    # Notice that compared to the previous assignment, each input vector\n",
        "    # is a row in this matrix.\n",
        "    def forward(self, inputs):\n",
        "        # This one needs no change, it just becomes \n",
        "        # a matrix x matrix multiplication\n",
        "        # as opposed to just vector x matrix multiplication as we had before.\n",
        "        return torch.matmul(inputs, self.weight) + self.bias\n",
        "    \n",
        "    # Backward pass, in addition to compute gradients for the weight and bias.\n",
        "    # It has to compute gradients with respect to inputs. \n",
        "    def backward(self, inputs, scores_grads):\n",
        "        self.weight_grads = torch.matmul(inputs.t(), scores_grads)\n",
        "        self.bias_grads = scores_grads.sum(0)\n",
        "        return torch.matmul(scores_grads, self.weight.t())\n",
        "\n",
        "# Input: batchSize x numInputs.\n",
        "numInputs = 1 * 28 * 28\n",
        "mock_inputs = torch.Tensor(batchSize, numInputs).normal_(0, 0.1)\n",
        "\n",
        "# Create the linear object to use.\n",
        "linear = toynn_Linear(numInputs, 10)\n",
        "\n",
        "# Forward and Backward passes:\n",
        "scores = linear.forward(mock_inputs)\n",
        "mock_inputs_grads = linear.backward(mock_inputs, mock_scores_grads)\n",
        "\n",
        "print(\"Input x: \", mock_inputs.shape)\n",
        "print(\"Weights W: \", linear.weight.shape)\n",
        "print(\"Biases b: \", linear.bias.shape)\n",
        "print(\"Outputs: \", scores.shape)\n",
        "print(\"dL / dx: \", mock_inputs_grads.shape)"
      ],
      "execution_count": 4,
      "outputs": [
        {
          "output_type": "stream",
          "text": [
            "Input x:  torch.Size([32, 784])\n",
            "Weights W:  torch.Size([784, 10])\n",
            "Biases b:  torch.Size([10])\n",
            "Outputs:  torch.Size([32, 10])\n",
            "dL / dx:  torch.Size([32, 784])\n"
          ],
          "name": "stdout"
        }
      ]
    },
    {
      "metadata": {
        "id": "NNiPMoctZ5T_",
        "colab_type": "text"
      },
      "cell_type": "markdown",
      "source": [
        "We are finished with a cleaner implementation of the linear + softmax + negative log-likelihood classifier that we implemented for the previous assignment: (1) It supports batches,  (2) the functions for forward and backward are nicely packaged in a python class, (3) the weight and bias matrices (as well as weight_grad and bias_grad matrices) are nicely created and initialized in the constructor of the toynn_Linear class, (4) the Linear class also computes $\\partial \\ell / \\partial x_j$'s, which will be useful to stack layers in order to train deeper models."
      ]
    },
    {
      "metadata": {
        "id": "PGdZ-bmxb473",
        "colab_type": "text"
      },
      "cell_type": "markdown",
      "source": [
        "### 2. Mini-batch SGD on FashionMNIST\n"
      ]
    },
    {
      "metadata": {
        "id": "zUfYXo8McA14",
        "colab_type": "text"
      },
      "cell_type": "markdown",
      "source": [
        "Given the newly implemented toynn_CrossEntropyLoss and toynn_Linear classes, let's train a classifier which is exactly the same as in the previous assignment, but now we can use batches of examples, as opposed to single examples during training with Stochastic (mini-batch) Gradient Descent (SGD). There are a few changes to make to the code from the previous assignment"
      ]
    },
    {
      "metadata": {
        "id": "IJDmV7Xgb3RI",
        "colab_type": "code",
        "outputId": "ebd509ed-ec8b-4537-9265-c02d4f259f58",
        "colab": {
          "base_uri": "https://localhost:8080/",
          "height": 714
        }
      },
      "cell_type": "code",
      "source": [
        "import torchvision\n",
        "import torchvision.transforms as transforms\n",
        "from torchvision.datasets import FashionMNIST\n",
        "\n",
        "# Removes, the need to call F.to_image ourselves.\n",
        "# Also, please look up what transforms.Normalize does.\n",
        "transform = transforms.Compose([transforms.ToTensor(),\n",
        "                               transforms.Normalize((0.5, 0.5, 0.5), \n",
        "                                                    (0.5, 0.5, 0.5))])\n",
        "\n",
        "# Load the training, and validation datasets.\n",
        "trainset = FashionMNIST(root = './data', train = True, transform = transform, download = True)\n",
        "valset = FashionMNIST(root = './data', train = False, transform = transform, download = True)\n",
        "\n",
        "# NEW: Pytorch DataLoader for iterating over batches.\n",
        "batchSize = 100\n",
        "\n",
        "# Shuffling is needed in case dataset is not shuffled by default.\n",
        "train_loader = torch.utils.data.DataLoader(dataset = trainset,\n",
        "                                           batch_size = batchSize,\n",
        "                                           shuffle = True)\n",
        "# We don't need to bach the validation set but let's do it anyway.\n",
        "val_loader = torch.utils.data.DataLoader(dataset = valset,\n",
        "                                         batch_size = batchSize,\n",
        "                                         shuffle = False) # No need.\n",
        "\n",
        "# Define a learning rate. \n",
        "learningRate = 1e-4\n",
        "\n",
        "# Define number of epochs.\n",
        "N = 5\n",
        "\n",
        "# Create the model.\n",
        "loss_fn = toynn_CrossEntropyLoss()\n",
        "linear_fn = toynn_Linear(1 * 28 * 28, 10)\n",
        "\n",
        "\n",
        "# log accuracies and losses.\n",
        "train_accuracies = []; val_accuracies = []\n",
        "train_losses = []; val_losses = []\n",
        "\n",
        "# Training loop. Please make sure you understand every single line of code below.\n",
        "# Go back to some of the previous steps in this lab if necessary.\n",
        "for epoch in range(0, N):\n",
        "    correct = 0.0\n",
        "    cum_loss = 0.0\n",
        "    \n",
        "    # Make a pass over the training data.\n",
        "    for (i, (inputs, labels)) in enumerate(train_loader):\n",
        "        inputs = inputs.view(batchSize, 1 * 28 * 28)\n",
        "        \n",
        "        # Forward pass. (Prediction stage)\n",
        "        scores = linear_fn.forward(inputs)\n",
        "        cum_loss += loss_fn.forward(scores, labels).item()\n",
        "        \n",
        "        # Count how many correct in this batch.\n",
        "        max_scores, max_labels = scores.max(1)\n",
        "        correct += (max_labels == labels).sum().item()\n",
        "        \n",
        "        #Backward pass. (Gradient computation stage)\n",
        "        scores_grads = loss_fn.backward(scores, labels)\n",
        "        grad_inputs = linear_fn.backward(inputs, scores_grads)\n",
        "        \n",
        "        # Parameter updates (SGD step).\n",
        "        linear_fn.weight.add_(-learningRate, linear_fn.weight_grads)\n",
        "        linear_fn.bias.add_(-learningRate, linear_fn.bias_grads)\n",
        "        \n",
        "        # Logging the current results on training.\n",
        "        if (i + 1) % 100 == 0:\n",
        "            print('Train-epoch %d. Iteration %05d, Avg-Loss: %.4f, Accuracy: %.4f' % \n",
        "                  (epoch, i + 1, cum_loss / (i + 1), correct / (i * batchSize + 1)))\n",
        "    \n",
        "    train_accuracies.append(correct / len(trainset))\n",
        "    train_losses.append(cum_loss / len(trainset))\n",
        "    \n",
        "    \n",
        "    # Make a pass over the validation data.\n",
        "    correct = 0.0\n",
        "    cum_loss = 0.0\n",
        "    for (i, (inputs, labels)) in enumerate(val_loader):\n",
        "        inputs = inputs.view(batchSize, 1 * 28 * 28)\n",
        "        \n",
        "        # Forward pass. (Prediction stage)\n",
        "        scores = linear_fn.forward(inputs)\n",
        "        cum_loss += loss_fn.forward(scores, labels).item()\n",
        "        \n",
        "         # Count how many correct in this batch.\n",
        "        max_scores, max_labels = scores.max(1)\n",
        "        correct += (max_labels == labels).sum().item()\n",
        "          \n",
        "    val_accuracies.append(correct / len(valset))\n",
        "    val_losses.append(cum_loss / (i + 1))\n",
        "            \n",
        "    # Logging the current results on validation.\n",
        "    print('Validation-epoch %d. Avg-Loss: %.4f, Accuracy: %.4f' % \n",
        "          (epoch, cum_loss / (i + 1), correct / len(valset)))"
      ],
      "execution_count": 5,
      "outputs": [
        {
          "output_type": "stream",
          "text": [
            "Downloading http://fashion-mnist.s3-website.eu-central-1.amazonaws.com/train-images-idx3-ubyte.gz\n",
            "Downloading http://fashion-mnist.s3-website.eu-central-1.amazonaws.com/train-labels-idx1-ubyte.gz\n",
            "Downloading http://fashion-mnist.s3-website.eu-central-1.amazonaws.com/t10k-images-idx3-ubyte.gz\n",
            "Downloading http://fashion-mnist.s3-website.eu-central-1.amazonaws.com/t10k-labels-idx1-ubyte.gz\n",
            "Processing...\n",
            "Done!\n",
            "Train-epoch 0. Iteration 00100, Avg-Loss: 1.1331, Accuracy: 0.6786\n",
            "Train-epoch 0. Iteration 00200, Avg-Loss: 0.9512, Accuracy: 0.7162\n",
            "Train-epoch 0. Iteration 00300, Avg-Loss: 0.8582, Accuracy: 0.7376\n",
            "Train-epoch 0. Iteration 00400, Avg-Loss: 0.8042, Accuracy: 0.7506\n",
            "Train-epoch 0. Iteration 00500, Avg-Loss: 0.7647, Accuracy: 0.7598\n",
            "Train-epoch 0. Iteration 00600, Avg-Loss: 0.7351, Accuracy: 0.7668\n",
            "Validation-epoch 0. Avg-Loss: 0.5964, Accuracy: 0.7968\n",
            "Train-epoch 1. Iteration 00100, Avg-Loss: 0.5813, Accuracy: 0.8161\n",
            "Train-epoch 1. Iteration 00200, Avg-Loss: 0.5639, Accuracy: 0.8149\n",
            "Train-epoch 1. Iteration 00300, Avg-Loss: 0.5595, Accuracy: 0.8138\n",
            "Train-epoch 1. Iteration 00400, Avg-Loss: 0.5547, Accuracy: 0.8149\n",
            "Train-epoch 1. Iteration 00500, Avg-Loss: 0.5491, Accuracy: 0.8159\n",
            "Train-epoch 1. Iteration 00600, Avg-Loss: 0.5465, Accuracy: 0.8164\n",
            "Validation-epoch 1. Avg-Loss: 0.5491, Accuracy: 0.8086\n",
            "Train-epoch 2. Iteration 00100, Avg-Loss: 0.5224, Accuracy: 0.8310\n",
            "Train-epoch 2. Iteration 00200, Avg-Loss: 0.5177, Accuracy: 0.8264\n",
            "Train-epoch 2. Iteration 00300, Avg-Loss: 0.5174, Accuracy: 0.8266\n",
            "Train-epoch 2. Iteration 00400, Avg-Loss: 0.5167, Accuracy: 0.8259\n",
            "Train-epoch 2. Iteration 00500, Avg-Loss: 0.5129, Accuracy: 0.8265\n",
            "Train-epoch 2. Iteration 00600, Avg-Loss: 0.5087, Accuracy: 0.8281\n",
            "Validation-epoch 2. Avg-Loss: 0.5250, Accuracy: 0.8137\n",
            "Train-epoch 3. Iteration 00100, Avg-Loss: 0.4772, Accuracy: 0.8464\n",
            "Train-epoch 3. Iteration 00200, Avg-Loss: 0.4889, Accuracy: 0.8367\n",
            "Train-epoch 3. Iteration 00300, Avg-Loss: 0.4884, Accuracy: 0.8360\n",
            "Train-epoch 3. Iteration 00400, Avg-Loss: 0.4865, Accuracy: 0.8358\n",
            "Train-epoch 3. Iteration 00500, Avg-Loss: 0.4883, Accuracy: 0.8349\n",
            "Train-epoch 3. Iteration 00600, Avg-Loss: 0.4878, Accuracy: 0.8348\n",
            "Validation-epoch 3. Avg-Loss: 0.5086, Accuracy: 0.8245\n",
            "Train-epoch 4. Iteration 00100, Avg-Loss: 0.4942, Accuracy: 0.8370\n",
            "Train-epoch 4. Iteration 00200, Avg-Loss: 0.4930, Accuracy: 0.8331\n",
            "Train-epoch 4. Iteration 00300, Avg-Loss: 0.4853, Accuracy: 0.8351\n",
            "Train-epoch 4. Iteration 00400, Avg-Loss: 0.4829, Accuracy: 0.8363\n",
            "Train-epoch 4. Iteration 00500, Avg-Loss: 0.4780, Accuracy: 0.8379\n",
            "Train-epoch 4. Iteration 00600, Avg-Loss: 0.4744, Accuracy: 0.8392\n",
            "Validation-epoch 4. Avg-Loss: 0.4984, Accuracy: 0.8255\n"
          ],
          "name": "stdout"
        }
      ]
    },
    {
      "metadata": {
        "id": "NheOKVEvktSU",
        "colab_type": "text"
      },
      "cell_type": "markdown",
      "source": [
        "We achieved an accuracy of 80% a lot faster than in the previous assignment, in fact we reached almost 83% in the same amount of epochs as before, so it seems mini-batching is helping to some extent. Try experimenting with different batch sizes and learning rates. Batch-size and learning rate are two hyper-parameters that are related in the optimization process, and is a current line of active research. For instance, under deep learning models, larger batch sizes do not offer as good generalization as smaller batches, which is bad because it is easier to parallelize code when using larger batch sizes. Also, a common strategy during training is to reduce (decay) the learning rate, as the training progresses to the later epochs, but a recent paper proposed to increase the batch size instead (for more, see: https://arxiv.org/abs/1711.00489 ). Probably for small datasets, keeping the learning rate fixed and batch size fixed will be fine, but as one moves to larger datasets, and deeper models, it becomes crucial to use some more advanced strategies."
      ]
    },
    {
      "metadata": {
        "id": "rL8RK38atNE5",
        "colab_type": "text"
      },
      "cell_type": "markdown",
      "source": [
        "### 3. The Rectified Linear Unit (ReLU) Activation Function.\n"
      ]
    },
    {
      "metadata": {
        "id": "w2SukZfmtbH_",
        "colab_type": "text"
      },
      "cell_type": "markdown",
      "source": [
        "We are close to implementing a neural network, we can accomplish this by stacking a linear operation on top of a Rectified Linear Unit (ReLU) activation, another linear operation, and the softmax + negative log likelihood loss. This is all it takes to create simple neural network with one hidden layer. First, let's implement the ReLU layer as we implemented the linear layer. "
      ]
    },
    {
      "metadata": {
        "id": "i6ZplFBMwAkD",
        "colab_type": "code",
        "outputId": "33904848-8a81-452a-e82b-6ee55181d8e4",
        "colab": {
          "base_uri": "https://localhost:8080/",
          "height": 68
        }
      },
      "cell_type": "code",
      "source": [
        "class toynn_ReLU(object):\n",
        "  \n",
        "    # Forward operation: f(x_i) = max(0, x_i)\n",
        "    def forward(self, inputs):\n",
        "        outputs = inputs.clone()\n",
        "        outputs[outputs < 0] = 0\n",
        "        return outputs\n",
        "    \n",
        "    # Make sure the backward pass is absolutely clear.\n",
        "    def backward(self, inputs, outputs_grad):\n",
        "        inputs_grad = outputs_grad.clone() # 1 * previous_grads\n",
        "        inputs_grad[inputs < 0] = 0  # or zero.\n",
        "        return inputs_grad\n",
        "      \n",
        "# Let's test it.\n",
        "x = torch.tensor([-2.3, 2.3, 3.1, -1.3, 4.3])\n",
        "relu_fn = toynn_ReLU()\n",
        "\n",
        "print(\"Input x: \", x)\n",
        "print(\"Output: \", relu_fn.forward(x))\n",
        "print(\"Grad x: \", relu_fn.backward(x, torch.ones(5)))"
      ],
      "execution_count": 6,
      "outputs": [
        {
          "output_type": "stream",
          "text": [
            "Input x:  tensor([-2.3000,  2.3000,  3.1000, -1.3000,  4.3000])\n",
            "Output:  tensor([0.0000, 2.3000, 3.1000, 0.0000, 4.3000])\n",
            "Grad x:  tensor([0., 1., 1., 0., 1.])\n"
          ],
          "name": "stdout"
        }
      ]
    },
    {
      "metadata": {
        "id": "ajJ1z9qb0oqt",
        "colab_type": "text"
      },
      "cell_type": "markdown",
      "source": [
        "### 4. Forward Pass in a Two-Layer Neural Network"
      ]
    },
    {
      "metadata": {
        "id": "LK4M717G0v-8",
        "colab_type": "text"
      },
      "cell_type": "markdown",
      "source": [
        "We are going to show here how to perform inference in a two-layer neural network using the operations defined earlier. In the questions for the assignment it is your task to train this network and demonstrate superior accuracy."
      ]
    },
    {
      "metadata": {
        "id": "pH4e6WI21DHw",
        "colab_type": "code",
        "outputId": "1d8ab66d-763a-4816-f9fc-3e696ddf588b",
        "colab": {
          "base_uri": "https://localhost:8080/",
          "height": 381
        }
      },
      "cell_type": "code",
      "source": [
        "import matplotlib\n",
        "matplotlib.rc('image', cmap = 'gray')\n",
        "import matplotlib.pyplot as plt\n",
        "\n",
        "# Setup the input variable x.\n",
        "img, label = trainset[0]\n",
        "x = img.view(1, 1 * 28 * 28)\n",
        "\n",
        "# Setup the number of inputs, hidden neurons, and outputs.\n",
        "nInputs = 1 * 28 * 28\n",
        "nHidden = 512\n",
        "nOutputs = 10\n",
        "\n",
        "# Create the model here.\n",
        "linear_fn1 = toynn_Linear(nInputs, nHidden)\n",
        "relu_fn = toynn_ReLU()\n",
        "linear_fn2 = toynn_Linear(nHidden, nOutputs)\n",
        "\n",
        "# Make predictions.\n",
        "a = linear_fn1.forward(x)\n",
        "z = relu_fn.forward(a)\n",
        "yhat = linear_fn2.forward(z)\n",
        "\n",
        "# Show the prediction scores for each class.\n",
        "# Yes, pytorch tensors already come with a softmax function.\n",
        "# We need it here because we hard-coded the softmax inside \n",
        "# the loss function.\n",
        "print(yhat.softmax(dim = 1)) \n",
        "\n",
        "plt.imshow(img[0]); plt.axis('off'); plt.grid(False)"
      ],
      "execution_count": 7,
      "outputs": [
        {
          "output_type": "stream",
          "text": [
            "tensor([[0.1032, 0.0950, 0.1008, 0.1069, 0.1026, 0.1030, 0.0977, 0.0969, 0.1006,\n",
            "         0.0932]])\n"
          ],
          "name": "stdout"
        },
        {
          "output_type": "display_data",
          "data": {
            "image/png": "[encoded data removed]",
            "text/plain": [
              "<Figure size 576x396 with 1 Axes>"
            ]
          },
          "metadata": {
            "tags": []
          }
        }
      ]
    },
    {
      "metadata": {
        "id": "8I1rONJT53Wu",
        "colab_type": "text"
      },
      "cell_type": "markdown",
      "source": [
        "Since the weights, and biases in the two linear layers [linear_fn1, linear_fn2] are not trained, the predictions are arbitrary at this point. One of the tasks for this assignment is for you to train the neural network."
      ]
    },
    {
      "metadata": {
        "id": "L_8eQuKBi7u0",
        "colab_type": "text"
      },
      "cell_type": "markdown",
      "source": [
        "## Assignment Questions [10pts + 3pts extra]"
      ]
    },
    {
      "metadata": {
        "id": "HpPb-CRh47Ct",
        "colab_type": "text"
      },
      "cell_type": "markdown",
      "source": [
        "* **[3pts] ** Provide code for the following activation functions:\n",
        "\n",
        "$$\\text{Sigmoid(x)} = \\frac{1}{1 + e^{-x}} = \\frac{e^x}{e^x + 1}$$\n",
        "\n",
        "$$\\text{Tanh(x)} = \\frac{e^{x} - e^{-x}}{e^{x} + e^{-x}}$$\n",
        "\n",
        "$$ \\text{LeakyReLU}(x) = \\begin{cases} \n",
        "      0.01 x & x < 0 \\\\\n",
        "      x & x \\geq 0 \n",
        "\\end{cases}$$"
      ]
    },
    {
      "metadata": {
        "id": "0ReR6YZC47eW",
        "colab_type": "code",
        "colab": {}
      },
      "cell_type": "code",
      "source": [
        "# Sigmoid of x.\n",
        "class toynn_Sigmoid:\n",
        "    def forward(self, x):\n",
        "        return (x.exp())/(x.exp() + 1)\n",
        "    \n",
        "    def backward(self, x, output_grads):\n",
        "        grad = (x.exp())/(x.exp() + 1)**2\n",
        "        return grad * output_grads\n",
        "        \n",
        "# Hyperbolic tangent.\n",
        "class toynn_Tanh:\n",
        "    def forward(self, x):\n",
        "        return (x.exp() - (-x).exp()) /(x.exp() +(-x).exp())\n",
        "    \n",
        "    def backward(self, x, output_grads):\n",
        "        grads = output_grads.clone()\n",
        "        return grads*0\n",
        "\n",
        "      \n",
        "# LeakyReLU of x.\n",
        "class toynn_LeakyReLU:\n",
        "    def forward(self, x):\n",
        "        outputs = x.clone()\n",
        "        outputs[outputs < 0] = outputs[outputs < 0] *.1 \n",
        "        return outputs\n",
        "        \n",
        "    \n",
        "    def backward(self, x, output_grads):\n",
        "        grad = output_grads.clone()\n",
        "        grad[x < 0] = grad[x<0]*0.1\n",
        "        return grad\n",
        "\n",
        "     "
      ],
      "execution_count": 0,
      "outputs": []
    },
    {
      "metadata": {
        "id": "tAMnCGwv-zJN",
        "colab_type": "text"
      },
      "cell_type": "markdown",
      "source": [
        "* **[2pts] ** Provide code for the binary cross entropy loss function:\n",
        "\n",
        "$$\\ell(y, \\hat{y}) = -\\sum_{i=1}^{i=n} [y_i\\text{log}(\\hat{y}_i) + (1 - y_i)\\text{log}(1 - \\hat{y}_i)]$$,\n",
        "\n",
        "where $n$ is the number of outputs (e.g. the size of vectors $y$ and $\\hat{y}$), the entries in the target vector $y_i$ are binary $\\in \\{0,1\\}$ and $y_i$ are typically the outputs of a sigmoid layer. Remember that the backward pass does not return a scalar but a vector containing the values for $\\partial \\ell / \\partial \\hat{y}_i$, henceforth a vector of the same size as $\\hat{y}$."
      ]
    },
    {
      "metadata": {
        "id": "zVC2BJpa-5Ka",
        "colab_type": "code",
        "colab": {}
      },
      "cell_type": "code",
      "source": [
        "# Binary cross entropy loss. \n",
        "# Useful for classification when the classes are not mutually exclusive.\n",
        "# For instance, when both shoe, and dress, are correct labels for an image.\n",
        "# In other words, when images have multiple labels per image.\n",
        "class toynn_BCELoss:\n",
        "    def forward(self, scores, labels):\n",
        "      self.predictions = scores.softmax(dim=1)\n",
        "      targets = torch.tensor([[0.0 if i != t.item() else 1.0 for i in range(10)] for t in labels])\n",
        "      return -1*torch.sum(targets* self.predictions.log() +  (1 - targets)* (1 - self.predictions).log())\n",
        "        \n",
        "    def backward(self, scores, labels):\n",
        "      targets = torch.tensor([[0.0 if i != t.item() else 1.0 for i in range(10)] for t in labels])\n",
        "      soft_grad = self.predictions.clone() \n",
        "      soft_grad = soft_grad * (1-soft_grad) #softmax chainrule gradient\n",
        "      return -1*(targets *soft_grad/self.predictions +  (1- targets)*-soft_grad/(1- self.predictions))\n"
      ],
      "execution_count": 0,
      "outputs": []
    },
    {
      "metadata": {
        "id": "LGIxg3q5i_bl",
        "colab_type": "text"
      },
      "cell_type": "markdown",
      "source": [
        "* **[5pts] ** Train the two-layer Neural Network as defined in Section 3 of this Assignment on FashionMNIST using toynn. Include below the code for training this neural network and report the training, validation plots for loss and accuracy. The code should be similar to the code in Section 2 of this assignment, please follow that convention."
      ]
    },
    {
      "metadata": {
        "id": "UzQc9ZtKjnf0",
        "colab_type": "code",
        "outputId": "b079da9e-02a2-406a-b37c-15a1b478b9b9",
        "colab": {
          "base_uri": "https://localhost:8080/",
          "height": 612
        }
      },
      "cell_type": "code",
      "source": [
        "# Your code goes here.\n",
        "# Removes, the need to call F.to_image ourselves.\n",
        "# Also, please look up what transforms.Normalize does.\n",
        "transform = transforms.Compose([transforms.ToTensor(),\n",
        "                               transforms.Normalize((0.5, 0.5, 0.5), \n",
        "                                                    (0.5, 0.5, 0.5))])\n",
        "\n",
        "# Load the training, and validation datasets.\n",
        "trainset = FashionMNIST(root = './data', train = True, transform = transform, download = True)\n",
        "valset = FashionMNIST(root = './data', train = False, transform = transform, download = True)\n",
        "\n",
        "# NEW: Pytorch DataLoader for iterating over batches.\n",
        "batchSize = 100\n",
        "\n",
        "# Shuffling is needed in case dataset is not shuffled by default.\n",
        "train_loader = torch.utils.data.DataLoader(dataset = trainset,\n",
        "                                           batch_size = batchSize,\n",
        "                                           shuffle = True)\n",
        "# We don't need to bach the validation set but let's do it anyway.\n",
        "val_loader = torch.utils.data.DataLoader(dataset = valset,\n",
        "                                         batch_size = batchSize,\n",
        "                                         shuffle = False) # No need.\n",
        "\n",
        "# Define a learning rate. \n",
        "learningRate = 1e-4\n",
        "\n",
        "# Define number of epochs.\n",
        "N = 5\n",
        "\n",
        "# Create the model.\n",
        "nInputs = 1 * 28 * 28\n",
        "nHidden = 512\n",
        "nOutputs = 10\n",
        "loss_fn = toynn_BCELoss()\n",
        "linear_fn1 = toynn_Linear(nInputs, nHidden)\n",
        "relu_fn = toynn_LeakyReLU()\n",
        "linear_fn2 = toynn_Linear(nHidden, nOutputs)\n",
        "\n",
        "# log accuracies and losses.\n",
        "train_accuracies = []; val_accuracies = []\n",
        "train_losses = []; val_losses = []\n",
        "\n",
        "# Training loop. Please make sure you understand every single line of code below.\n",
        "# Go back to some of the previous steps in this lab if necessary.\n",
        "for epoch in range(0, N):\n",
        "    correct = 0.0\n",
        "    cum_loss = 0.0\n",
        "    \n",
        "    # Make a pass over the training data.\n",
        "    for (i, (inputs, labels)) in enumerate(train_loader):\n",
        "        inputs = inputs.view(batchSize, 1 * 28 * 28)\n",
        "        \n",
        "        # Create the model here.\n",
        "\n",
        "\n",
        "# Make predictions.\n",
        "\n",
        "        # Forward pass. (Prediction stage)\n",
        "        a = linear_fn1.forward(inputs)\n",
        "        z = relu_fn.forward(a)\n",
        "        scores = linear_fn2.forward(z)\n",
        "        cum_loss += loss_fn.forward(scores, labels).item()\n",
        "        \n",
        "        # Count how many correct in this batch.\n",
        "        max_scores, max_labels = scores.max(1)\n",
        "        correct += (max_labels == labels).sum().item()\n",
        "        \n",
        "        #Backward pass. (Gradient computation stage)\n",
        "        \n",
        "        grad_inputs = loss_fn.backward(scores, labels)\n",
        "        grad_inputs = linear_fn2.backward(z, grad_inputs)\n",
        "        grad_inputs = relu_fn.backward(a, grad_inputs)\n",
        "        grad_inputs = linear_fn1.backward(inputs, grad_inputs)\n",
        "\n",
        "        # Parameter updates (SGD step).\n",
        "        linear_fn1.weight.add_(-learningRate, linear_fn1.weight_grads)\n",
        "        linear_fn1.bias.add_(-learningRate, linear_fn1.bias_grads)\n",
        "        linear_fn2.weight.add_(-learningRate, linear_fn2.weight_grads)\n",
        "        linear_fn2.bias.add_(-learningRate, linear_fn2.bias_grads)\n",
        "        # Logging the current results on training.\n",
        "        if (i + 1) % 100 == 0:\n",
        "            print('Train-epoch %d. Iteration %05d, Avg-Loss: %.4f, Accuracy: %.4f' % \n",
        "                  (epoch, i + 1, cum_loss / (i + 1), correct / (i * batchSize + 1)))\n",
        "    \n",
        "    train_accuracies.append(correct / len(trainset))\n",
        "    train_losses.append(cum_loss / len(trainset))\n",
        "    \n",
        "    \n",
        "    # Make a pass over the validation data.\n",
        "    correct = 0.0\n",
        "    cum_loss = 0.0\n",
        "    for (i, (inputs, labels)) in enumerate(val_loader):\n",
        "        inputs = inputs.view(batchSize, 1 * 28 * 28)\n",
        "        \n",
        "        # Forward pass. (Prediction stage)\n",
        "        a = linear_fn1.forward(inputs)\n",
        "        z = relu_fn.forward(a)\n",
        "        scores = linear_fn2.forward(z)\n",
        "        cum_loss += loss_fn.forward(scores, labels).item()\n",
        "        \n",
        "         # Count how many correct in this batch.\n",
        "        max_scores, max_labels = scores.max(1)\n",
        "        correct += (max_labels == labels).sum().item()\n",
        "          \n",
        "    val_accuracies.append(correct / len(valset))\n",
        "    val_losses.append(cum_loss / (i + 1))\n",
        "            \n",
        "    # Logging the current results on validation.\n",
        "    print('Validation-epoch %d. Avg-Loss: %.4f, Accuracy: %.4f' % \n",
        "          (epoch, cum_loss / (i + 1), correct / len(valset)))"
      ],
      "execution_count": 166,
      "outputs": [
        {
          "output_type": "stream",
          "text": [
            "Train-epoch 0. Iteration 00100, Avg-Loss: 287.6239, Accuracy: 0.4709\n",
            "Train-epoch 0. Iteration 00200, Avg-Loss: 247.1369, Accuracy: 0.5551\n",
            "Train-epoch 0. Iteration 00300, Avg-Loss: 218.0854, Accuracy: 0.6081\n",
            "Train-epoch 0. Iteration 00400, Avg-Loss: 198.4583, Accuracy: 0.6402\n",
            "Train-epoch 0. Iteration 00500, Avg-Loss: 184.1805, Accuracy: 0.6601\n",
            "Train-epoch 0. Iteration 00600, Avg-Loss: 173.4800, Accuracy: 0.6748\n",
            "Validation-epoch 0. Avg-Loss: 118.3584, Accuracy: 0.7523\n",
            "Train-epoch 1. Iteration 00100, Avg-Loss: 112.7308, Accuracy: 0.7711\n",
            "Train-epoch 1. Iteration 00200, Avg-Loss: 111.5448, Accuracy: 0.7704\n",
            "Train-epoch 1. Iteration 00300, Avg-Loss: 109.9696, Accuracy: 0.7730\n",
            "Train-epoch 1. Iteration 00400, Avg-Loss: 108.5387, Accuracy: 0.7763\n",
            "Train-epoch 1. Iteration 00500, Avg-Loss: 106.9306, Accuracy: 0.7794\n",
            "Train-epoch 1. Iteration 00600, Avg-Loss: 105.6704, Accuracy: 0.7816\n",
            "Validation-epoch 1. Avg-Loss: 101.0192, Accuracy: 0.7867\n",
            "Train-epoch 2. Iteration 00100, Avg-Loss: 97.8960, Accuracy: 0.8042\n",
            "Train-epoch 2. Iteration 00200, Avg-Loss: 96.3443, Accuracy: 0.8039\n",
            "Train-epoch 2. Iteration 00300, Avg-Loss: 95.4617, Accuracy: 0.8056\n",
            "Train-epoch 2. Iteration 00400, Avg-Loss: 94.5907, Accuracy: 0.8069\n",
            "Train-epoch 2. Iteration 00500, Avg-Loss: 93.8872, Accuracy: 0.8089\n",
            "Train-epoch 2. Iteration 00600, Avg-Loss: 93.3174, Accuracy: 0.8106\n",
            "Validation-epoch 2. Avg-Loss: 93.4504, Accuracy: 0.8077\n",
            "Train-epoch 3. Iteration 00100, Avg-Loss: 88.7459, Accuracy: 0.8264\n",
            "Train-epoch 3. Iteration 00200, Avg-Loss: 87.7638, Accuracy: 0.8265\n",
            "Train-epoch 3. Iteration 00300, Avg-Loss: 87.8319, Accuracy: 0.8244\n",
            "Train-epoch 3. Iteration 00400, Avg-Loss: 86.8500, Accuracy: 0.8264\n",
            "Train-epoch 3. Iteration 00500, Avg-Loss: 86.8385, Accuracy: 0.8255\n",
            "Train-epoch 3. Iteration 00600, Avg-Loss: 86.9157, Accuracy: 0.8252\n",
            "Validation-epoch 3. Avg-Loss: 88.6332, Accuracy: 0.8157\n",
            "Train-epoch 4. Iteration 00100, Avg-Loss: 84.6091, Accuracy: 0.8368\n",
            "Train-epoch 4. Iteration 00200, Avg-Loss: 84.1109, Accuracy: 0.8334\n",
            "Train-epoch 4. Iteration 00300, Avg-Loss: 83.4115, Accuracy: 0.8340\n",
            "Train-epoch 4. Iteration 00400, Avg-Loss: 83.6896, Accuracy: 0.8334\n",
            "Train-epoch 4. Iteration 00500, Avg-Loss: 83.1777, Accuracy: 0.8335\n",
            "Train-epoch 4. Iteration 00600, Avg-Loss: 82.8549, Accuracy: 0.8337\n",
            "Validation-epoch 4. Avg-Loss: 85.5443, Accuracy: 0.8219\n"
          ],
          "name": "stdout"
        }
      ]
    },
    {
      "metadata": {
        "id": "gXlKZ2eQj9Y7",
        "colab_type": "text"
      },
      "cell_type": "markdown",
      "source": [
        "* **[3pts (extra)]** Train a Neural Network **using toynn** on the CIFAR 10 Dataset (torchvision.datasets.CIFAR10). Include the code for defining, and training the neural network, as well as plots for training, validation for loss and accuracy. Show the predictions for one example of this dataset. Write down below your code in bold face the accuracy you obtained and in how many epochs. I will post the highest accuracies that people obtained for this part."
      ]
    },
    {
      "metadata": {
        "id": "feWB2DO7lWQv",
        "colab_type": "code",
        "colab": {
          "base_uri": "https://localhost:8080/",
          "height": 561
        },
        "outputId": "15f403e6-ea1a-4245-a603-267f9708e33e"
      },
      "cell_type": "code",
      "source": [
        "# Your code goes here.\n",
        "# Removes, the need to call F.to_image ourselves.\n",
        "# Also, please look up what transforms.Normalize does.\n",
        "from torchvision.datasets import CIFAR10\n",
        "\n",
        "transform = transforms.Compose([transforms.ToTensor(),\n",
        "                               transforms.Normalize((0.5, 0.5, 0.5), \n",
        "                                                    (0.5, 0.5, 0.5))])\n",
        "\n",
        "# Load the training, and validation datasets.\n",
        "trainset = CIFAR10(root = './data', train = True, transform = transform, download = True)\n",
        "valset = CIFAR10(root = './data', train = False, transform = transform, download = True)\n",
        "# NEW: Pytorch DataLoader for iterating over batches.\n",
        "batchSize = 100\n",
        "\n",
        "# Shuffling is needed in case dataset is not shuffled by default.\n",
        "train_loader = torch.utils.data.DataLoader(dataset = trainset,\n",
        "                                           batch_size = batchSize,\n",
        "                                           shuffle = True)\n",
        "# We don't need to bach the validation set but let's do it anyway.\n",
        "val_loader = torch.utils.data.DataLoader(dataset = valset,\n",
        "                                         batch_size = batchSize,\n",
        "                                         shuffle = False) # No need.\n",
        "\n",
        "# Define a learning rate. \n",
        "learningRate = 1e-4\n",
        "\n",
        "# Define number of epochs.\n",
        "N = 5\n",
        "\n",
        "# Create the model.\n",
        "nInputs = 3 * 32 * 32\n",
        "nHidden = 1024\n",
        "nOutputs = 10\n",
        "loss_fn = toynn_BCELoss()\n",
        "linear_fn1 = toynn_Linear(nInputs, nHidden)\n",
        "relu_fn = toynn_LeakyReLU()\n",
        "linear_fn2 = toynn_Linear(nHidden, nOutputs)\n",
        "\n",
        "# log accuracies and losses.\n",
        "train_accuracies = []; val_accuracies = []\n",
        "train_losses = []; val_losses = []\n",
        "\n",
        "# Training loop. Please make sure you understand every single line of code below.\n",
        "# Go back to some of the previous steps in this lab if necessary.\n",
        "for epoch in range(0, N):\n",
        "    correct = 0.0\n",
        "    cum_loss = 0.0\n",
        "    \n",
        "    # Make a pass over the training data.\n",
        "    for (i, (inputs, labels)) in enumerate(train_loader):\n",
        "        inputs = inputs.view(batchSize, 3 * 32 * 32)\n",
        "        \n",
        "        # Forward pass. (Prediction stage)\n",
        "        a = linear_fn1.forward(inputs)\n",
        "        z = relu_fn.forward(a)\n",
        "        scores = linear_fn2.forward(z)\n",
        "        cum_loss += loss_fn.forward(scores, labels).item()\n",
        "        \n",
        "        # Count how many correct in this batch.\n",
        "        max_scores, max_labels = scores.max(1)\n",
        "        correct += (max_labels == labels).sum().item()\n",
        "        \n",
        "        #Backward pass. (Gradient computation stage)\n",
        "        \n",
        "        grad_inputs = loss_fn.backward(scores, labels)\n",
        "        grad_inputs = linear_fn2.backward(z, grad_inputs)\n",
        "        grad_inputs = relu_fn.backward(a, grad_inputs)\n",
        "        grad_inputs = linear_fn1.backward(inputs, grad_inputs)\n",
        "\n",
        "        # Parameter updates (SGD step).\n",
        "        linear_fn1.weight.add_(-learningRate, linear_fn1.weight_grads)\n",
        "        linear_fn1.bias.add_(-learningRate, linear_fn1.bias_grads)\n",
        "        linear_fn2.weight.add_(-learningRate, linear_fn2.weight_grads)\n",
        "        linear_fn2.bias.add_(-learningRate, linear_fn2.bias_grads)\n",
        "        # Logging the current results on training.\n",
        "        if (i + 1) % 100 == 0:\n",
        "            print('Train-epoch %d. Iteration %05d, Avg-Loss: %.4f, Accuracy: %.4f' % \n",
        "                  (epoch, i + 1, cum_loss / (i + 1), correct / (i * batchSize + 1)))\n",
        "    \n",
        "    train_accuracies.append(correct / len(trainset))\n",
        "    train_losses.append(cum_loss / len(trainset))\n",
        "    \n",
        "    \n",
        "    # Make a pass over the validation data.\n",
        "    correct = 0.0\n",
        "    cum_loss = 0.0\n",
        "    for (i, (inputs, labels)) in enumerate(val_loader):\n",
        "        inputs = inputs.view(batchSize, 3 * 32 * 32)\n",
        "        \n",
        "        # Forward pass. (Prediction stage)\n",
        "        a = linear_fn1.forward(inputs)\n",
        "        z = relu_fn.forward(a)\n",
        "        scores = linear_fn2.forward(z)\n",
        "        cum_loss += loss_fn.forward(scores, labels).item()\n",
        "        \n",
        "         # Count how many correct in this batch.\n",
        "        max_scores, max_labels = scores.max(1)\n",
        "        correct += (max_labels == labels).sum().item()\n",
        "          \n",
        "    val_accuracies.append(correct / len(valset))\n",
        "    val_losses.append(cum_loss / (i + 1))\n",
        "            \n",
        "    # Logging the current results on validation.\n",
        "    print('Validation-epoch %d. Avg-Loss: %.4f, Accuracy: %.4f' % \n",
        "          (epoch, cum_loss / (i + 1), correct / len(valset)))"
      ],
      "execution_count": 172,
      "outputs": [
        {
          "output_type": "stream",
          "text": [
            "Files already downloaded and verified\n",
            "Files already downloaded and verified\n",
            "Train-epoch 0. Iteration 00100, Avg-Loss: 316.3283, Accuracy: 0.2238\n",
            "Train-epoch 0. Iteration 00200, Avg-Loss: 309.0582, Accuracy: 0.2485\n",
            "Train-epoch 0. Iteration 00300, Avg-Loss: 303.2053, Accuracy: 0.2637\n",
            "Train-epoch 0. Iteration 00400, Avg-Loss: 298.5259, Accuracy: 0.2784\n",
            "Train-epoch 0. Iteration 00500, Avg-Loss: 294.6672, Accuracy: 0.2907\n",
            "Validation-epoch 0. Avg-Loss: 275.2374, Accuracy: 0.3439\n",
            "Train-epoch 1. Iteration 00100, Avg-Loss: 274.1717, Accuracy: 0.3533\n",
            "Train-epoch 1. Iteration 00200, Avg-Loss: 271.8982, Accuracy: 0.3608\n",
            "Train-epoch 1. Iteration 00300, Avg-Loss: 270.2631, Accuracy: 0.3647\n",
            "Train-epoch 1. Iteration 00400, Avg-Loss: 268.8991, Accuracy: 0.3674\n",
            "Train-epoch 1. Iteration 00500, Avg-Loss: 267.6096, Accuracy: 0.3701\n",
            "Validation-epoch 1. Avg-Loss: 260.0434, Accuracy: 0.3904\n",
            "Train-epoch 2. Iteration 00100, Avg-Loss: 259.6890, Accuracy: 0.3936\n",
            "Train-epoch 2. Iteration 00200, Avg-Loss: 258.6898, Accuracy: 0.3950\n",
            "Train-epoch 2. Iteration 00300, Avg-Loss: 257.6580, Accuracy: 0.3977\n",
            "Train-epoch 2. Iteration 00400, Avg-Loss: 256.7907, Accuracy: 0.3995\n",
            "Train-epoch 2. Iteration 00500, Avg-Loss: 256.1090, Accuracy: 0.4014\n",
            "Validation-epoch 2. Avg-Loss: 250.8924, Accuracy: 0.4139\n",
            "Train-epoch 3. Iteration 00100, Avg-Loss: 250.7866, Accuracy: 0.4234\n",
            "Train-epoch 3. Iteration 00200, Avg-Loss: 249.7965, Accuracy: 0.4214\n",
            "Train-epoch 3. Iteration 00300, Avg-Loss: 249.3896, Accuracy: 0.4211\n",
            "Train-epoch 3. Iteration 00400, Avg-Loss: 248.4343, Accuracy: 0.4239\n",
            "Train-epoch 3. Iteration 00500, Avg-Loss: 248.2035, Accuracy: 0.4250\n",
            "Validation-epoch 3. Avg-Loss: 244.5362, Accuracy: 0.4355\n",
            "Train-epoch 4. Iteration 00100, Avg-Loss: 242.9237, Accuracy: 0.4469\n",
            "Train-epoch 4. Iteration 00200, Avg-Loss: 242.7544, Accuracy: 0.4437\n",
            "Train-epoch 4. Iteration 00300, Avg-Loss: 243.1557, Accuracy: 0.4405\n",
            "Train-epoch 4. Iteration 00400, Avg-Loss: 242.6116, Accuracy: 0.4425\n",
            "Train-epoch 4. Iteration 00500, Avg-Loss: 242.2443, Accuracy: 0.4421\n",
            "Validation-epoch 4. Avg-Loss: 239.9350, Accuracy: 0.4495\n"
          ],
          "name": "stdout"
        }
      ]
    },
    {
      "metadata": {
        "id": "e-eXdK5FqZVA",
        "colab_type": "code",
        "colab": {
          "base_uri": "https://localhost:8080/",
          "height": 279
        },
        "outputId": "82657c7a-cf50-4940-e59e-b02f6f077c0e"
      },
      "cell_type": "code",
      "source": [
        "plt.figure(figsize = (10, 4))\n",
        "plt.subplot(1, 2, 1)\n",
        "plt.plot(val_losses, 'bo-', label = 'val-loss')\n",
        "plt.plot(train_losses, 'ro-', label = 'train-loss')\n",
        "plt.ylabel('loss')\n",
        "plt.xlabel('epoch')\n",
        "plt.legend(['validation', 'training'], loc='upper right')\n",
        "\n",
        "plt.subplot(1, 2, 2)\n",
        "plt.plot(val_accuracies, 'bo-', label = 'val-acc')\n",
        "plt.plot(train_accuracies, 'ro-', label = 'train-acc')\n",
        "plt.ylabel('accuracy')\n",
        "plt.xlabel('epoch')\n",
        "plt.legend(['validation', 'training'], loc='lower right')\n",
        "plt.show()"
      ],
      "execution_count": 173,
      "outputs": [
        {
          "output_type": "display_data",
          "data": {
            "image/png": "[encoded data removed]",
            "text/plain": [
              "<Figure size 720x288 with 2 Axes>"
            ]
          },
          "metadata": {
            "tags": []
          }
        }
      ]
    },
    {
      "metadata": {
        "id": "7VLqNpM79-3l",
        "colab_type": "text"
      },
      "cell_type": "markdown",
      "source": [
        "**I obtained a validation accuracy of 44.95% after 5 epochs.**"
      ]
    },
    {
      "metadata": {
        "id": "ILjThOf_FRhe",
        "colab_type": "code",
        "colab": {}
      },
      "cell_type": "code",
      "source": [
        ""
      ],
      "execution_count": 0,
      "outputs": []
    }
  ]
}